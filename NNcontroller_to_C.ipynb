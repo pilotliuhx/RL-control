{
 "cells": [
  {
   "cell_type": "code",
   "execution_count": 1,
   "metadata": {},
   "outputs": [
    {
     "name": "stdout",
     "output_type": "stream",
     "text": [
      "action from pytorch: [0.9996142]\n",
      "(8, 2) (8, 8) (1, 8)\n",
      "fc1: [0.49692867 0.4095066  0.77692754 0.11859583 0.55293866 0.57295867\n",
      " 0.96415396 0.        ]\n",
      "fc2: [0.         1.03887431 1.34751408 1.53618617 0.         1.49733175\n",
      " 0.         0.        ]\n",
      "action from matmul: [199.92284131]\n"
     ]
    }
   ],
   "source": [
    "'''\n",
    "Read TD controller and convert to C-style parameters.\n",
    "'''\n",
    "\n",
    "import numpy as np\n",
    "import torch\n",
    "import TD3\n",
    "import utils\n",
    "\n",
    "def print_param(param):\n",
    "    s = ''\n",
    "    print np.shape(param)\n",
    "    param = np.reshape(param, -1)\n",
    "    for i in range(len(param)):\n",
    "        s += str(param[i])\n",
    "        if i <> len(param)-1:\n",
    "            s += ', '\n",
    "    return s\n",
    "\n",
    "def relu(x):    \n",
    "    return (abs(x) + x) / 2.0\n",
    "\n",
    "def tanh(x):\n",
    "    return (np.exp(x) - np.exp(-x)) / (np.exp(x) + np.exp(-x))\n",
    "\n",
    "\n",
    "state_dim = 2\n",
    "action_dim = 1\n",
    "max_action = 1\n",
    "dt = 0.02\n",
    "\n",
    "args = {\n",
    "    'start_timesteps':1e5,  # 1e4\n",
    "    'eval_freq': 5e3,\n",
    "    'expl_noise': 0.1,\n",
    "    'batch_size': 256,\n",
    "    'discount': 0.99,\n",
    "    'tau': 0.005,\n",
    "    'policy_noise': 0.2,\n",
    "    'noise_clip': 0.5,\n",
    "    'policy_freq': 2\n",
    "}\n",
    "\n",
    "kwargs = {\n",
    "    \"state_dim\": state_dim,\n",
    "    \"action_dim\": action_dim,\n",
    "    \"max_action\": max_action,\n",
    "    \"discount\": args['discount'],\n",
    "    \"tau\": args['tau'],\n",
    "}\n",
    "\n",
    "# Target policy smoothing is scaled wrt the action scale\n",
    "kwargs[\"policy_noise\"] = args['policy_noise'] * max_action\n",
    "kwargs[\"noise_clip\"] = args['noise_clip'] * max_action\n",
    "kwargs[\"policy_freq\"] = args['policy_freq']\n",
    "policy = TD3.TD3(**kwargs)\n",
    "\n",
    "# load policy\n",
    "policy.load('TD3models/ctrlmodel_600')\n",
    "\n",
    "state = np.array([0.1, 0.2])\n",
    "action = policy.select_action(state)\n",
    "\n",
    "print 'action from pytorch:', action\n",
    "\n",
    "W1 = policy.actor.l1.weight.data.numpy()\n",
    "b1 = policy.actor.l1.bias.data.numpy()\n",
    "W2 = policy.actor.l2.weight.data.numpy()\n",
    "b2 = policy.actor.l2.bias.data.numpy()\n",
    "W3 = policy.actor.l3.weight.data.numpy()\n",
    "b3 = policy.actor.l3.bias.data.numpy()\n",
    "\n",
    "print np.shape(W1), np.shape(W2), np.shape(W3)\n",
    "\n",
    "fc1 = relu(np.matmul(state, W1.T) + b1)\n",
    "fc2 = relu(np.matmul(fc1, W2.T) + b2)\n",
    "out = tanh(np.matmul(fc2, W3.T) + b3)\n",
    "print 'fc1:', fc1\n",
    "print 'fc2:', fc2\n",
    "print 'action from matmul:', out * 200"
   ]
  },
  {
   "cell_type": "code",
   "execution_count": 2,
   "metadata": {},
   "outputs": [
    {
     "name": "stdout",
     "output_type": "stream",
     "text": [
      "(2, 8)\n",
      "(8, 8)\n",
      "(8, 1)\n",
      "(8,)\n",
      "(8,)\n",
      "(1,)\n"
     ]
    }
   ],
   "source": [
    "filename = 'NNparam.txt'\n",
    "with open(filename, 'w') as f:\n",
    "    f.write('float w1[2][8] = {'  + print_param(W1.T) + '};\\n' )\n",
    "    f.write('float w2[8][8] = {' + print_param(W2.T) + '};\\n' )\n",
    "    f.write('float w3[8][1] = {'  + print_param(W3.T) + '};\\n' )\n",
    "    f.write('float b1[8] = {'  + print_param(b1) + '};\\n' )\n",
    "    f.write('float b2[8] = {'  + print_param(b2) + '};\\n' )\n",
    "    f.write('float b3[1] = {'   + print_param(b3) + '};\\n' )"
   ]
  },
  {
   "cell_type": "code",
   "execution_count": null,
   "metadata": {},
   "outputs": [],
   "source": []
  },
  {
   "cell_type": "code",
   "execution_count": null,
   "metadata": {},
   "outputs": [],
   "source": []
  },
  {
   "cell_type": "code",
   "execution_count": null,
   "metadata": {},
   "outputs": [],
   "source": []
  }
 ],
 "metadata": {
  "kernelspec": {
   "display_name": "Python 3",
   "language": "python",
   "name": "python3"
  },
  "language_info": {
   "codemirror_mode": {
    "name": "ipython",
    "version": 3
   },
   "file_extension": ".py",
   "mimetype": "text/x-python",
   "name": "python",
   "nbconvert_exporter": "python",
   "pygments_lexer": "ipython3",
   "version": "3.7.0"
  }
 },
 "nbformat": 4,
 "nbformat_minor": 2
}
